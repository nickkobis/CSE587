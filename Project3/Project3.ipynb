{
 "cells": [
  {
   "cell_type": "code",
   "execution_count": 1,
   "metadata": {},
   "outputs": [],
   "source": [
    "# hello world\n",
    "import findspark\n",
    "findspark.init('/home/cse587/spark-2.4.0-bin-hadoop2.7')\n",
    "import pyspark\n",
    "import string\n",
    "import re\n",
    "from pyspark.sql.functions import UserDefinedFunction\n",
    "from pyspark.sql.types import StringType\n",
    "from pyspark.sql import functions as F\n",
    "from pyspark.sql.types import *\n",
    "from pyspark.ml.feature import HashingTF, IDF, Tokenizer\n",
    "sc = pyspark.SparkContext()"
   ]
  },
  {
   "cell_type": "code",
   "execution_count": 2,
   "metadata": {},
   "outputs": [],
   "source": [
    "from pyspark.sql import *"
   ]
  },
  {
   "cell_type": "code",
   "execution_count": 3,
   "metadata": {},
   "outputs": [],
   "source": [
    "spark = SparkSession.builder.appName(\"Projec3\")\\\n",
    "        .config(\"spark.some.config.option\",\"some-value\")\\\n",
    "        .getOrCreate()"
   ]
  },
  {
   "cell_type": "code",
   "execution_count": 4,
   "metadata": {},
   "outputs": [],
   "source": [
    "df = spark.read.load(\"/home/cse587/CSE587/Project3/train.csv\",sep=\",\",format=\"csv\",inferSchema = True,header = True,escape ='\"')"
   ]
  },
  {
   "cell_type": "code",
   "execution_count": 5,
   "metadata": {},
   "outputs": [
    {
     "name": "stdout",
     "output_type": "stream",
     "text": [
      "root\n",
      " |-- movie_id: string (nullable = true)\n",
      " |-- movie_name: string (nullable = true)\n",
      " |-- plot: string (nullable = true)\n",
      " |-- genre: string (nullable = true)\n",
      "\n"
     ]
    }
   ],
   "source": [
    "df.printSchema()"
   ]
  },
  {
   "cell_type": "code",
   "execution_count": 6,
   "metadata": {},
   "outputs": [
    {
     "name": "stdout",
     "output_type": "stream",
     "text": [
      "+--------+----------+--------------------+-----+\n",
      "|movie_id|movie_name|                plot|genre|\n",
      "+--------+----------+--------------------+-----+\n",
      "|20580938| Talentime|A music teacher, ...| null|\n",
      "|33904402|  Deadroom|Four Conversation...| null|\n",
      "+--------+----------+--------------------+-----+\n",
      "\n"
     ]
    }
   ],
   "source": [
    "df.filter(df['genre'].isNull()).show()\n",
    " #formated correctly"
   ]
  },
  {
   "cell_type": "code",
   "execution_count": 7,
   "metadata": {},
   "outputs": [],
   "source": [
    "\n",
    "#punc = string.punctuation\n",
    "def removePunctuation(s):\n",
    "    print(\"type of s: \",s)\n",
    "    return re.sub(r'[^\\w\\s]',\"\",s)\n",
    "#data = re.sub(r'[^\\w\\s]',\"\",data)"
   ]
  },
  {
   "cell_type": "code",
   "execution_count": 8,
   "metadata": {},
   "outputs": [],
   "source": [
    "udf = UserDefinedFunction(lambda x: removePunctuation(x), StringType())\n",
    "df = df.withColumn('plot', udf(df.plot))\n",
    "#new_df = df.withColumn(\"plot\",)"
   ]
  },
  {
   "cell_type": "code",
   "execution_count": 9,
   "metadata": {},
   "outputs": [],
   "source": [
    "genreMap = spark.read.load(\"/home/cse587/CSE587/Project3/mapping.csv\",sep=\",\",format=\"csv\",inferSchema = True,header = True,escape ='\"')\n",
    "genreMap = genreMap.withColumnRenamed('_c0','id')\n",
    "genreMap = genreMap.withColumnRenamed('0','genre')\n",
    "\n",
    "#this converts a column into a list for use inside encodeGenre() \n",
    "#since you cant perform computations on a dataframe inside a UDF\n",
    "genreList = genreMap.select(\"genre\").rdd.flatMap(lambda x: x).collect()"
   ]
  },
  {
   "cell_type": "code",
   "execution_count": 10,
   "metadata": {},
   "outputs": [],
   "source": [
    "\n",
    "def encodeGenre(s):\n",
    "    #s : the value of col \"genre\" at some row\n",
    "    retVal=\"\"\n",
    "    #s = re.sub(r'[^\\\\'']',\"\",s)\n",
    "    #print(\"s: \",s)\n",
    "    #print(\"type of s: \",type(s))\n",
    "    if(s == None):\n",
    "        return '00000000000000000000'\n",
    "    #convert from string to list\n",
    "    s = s[1:-1].split(\", \")\n",
    "    #print(\"type of s: \",type(s))\n",
    "    #print(s)\n",
    "    \n",
    "    #remove single quotes, regex wasnt working for some reason\n",
    "    temp=[]\n",
    "    for x in s:\n",
    "        #s.remove(x)\n",
    "        x=x[1:-1]\n",
    "#         print(x)\n",
    "#         index = genreMap[\"0\"==x]\n",
    "#         print(index)\n",
    "        temp.append(x)\n",
    "    s=temp\n",
    "    #print(s)\n",
    "    \n",
    "    #create one hot encoding, \n",
    "    for genre in genreList:\n",
    "        if genre in s:\n",
    "            retVal=retVal+\"1\"\n",
    "        else:\n",
    "            retVal=retVal+\"0\"\n",
    "##### apparetnly it aint kosher to perform df operations inside a udf... so this hour of work was for nothing\n",
    "#     t = genreMap.withColumn(\"encoding\",F.when(genreMap.genre.isin(s),1).otherwise(0))\n",
    "#     #t.show()\n",
    "#     retVal = t.select(\"encoding\").rdd.flatMap(lambda x: x).collect()\n",
    "#     retVal = ''.join(map(str,retVal))\n",
    "    return retVal\n",
    "    \n",
    "    "
   ]
  },
  {
   "cell_type": "code",
   "execution_count": 11,
   "metadata": {},
   "outputs": [],
   "source": [
    "udf2 = UserDefinedFunction(lambda x: encodeGenre(x), StringType())\n",
    "df = df.withColumn('genre',udf2(df.genre))"
   ]
  },
  {
   "cell_type": "code",
   "execution_count": 12,
   "metadata": {},
   "outputs": [],
   "source": [
    "#install numpy if you havent already, otherwise one of the ml.featuer imports will throw an error cause it needs numpy\n",
    "#%pip install numpy\n",
    "import numpy\n",
    "from pyspark.ml.feature import HashingTF, IDF, Tokenizer"
   ]
  },
  {
   "cell_type": "code",
   "execution_count": 13,
   "metadata": {},
   "outputs": [],
   "source": [
    "#taken from https://github.com/apache/spark/blob/master/examples/src/main/python/ml/tf_idf_example.py\n",
    "tokenizer = Tokenizer(inputCol=\"plot\", outputCol=\"words\")\n",
    "wordsData = tokenizer.transform(df)\n",
    "hashingTF = HashingTF(inputCol=\"words\", outputCol=\"rawFeatures\")\n",
    "featurizedData = hashingTF.transform(wordsData)\n",
    "\n",
    "#this will do part 2\n",
    "# idf = IDF(inputCol=\"rawFeatures\", outputCol=\"features\")\n",
    "# idfModel = idf.fit(featurizedData)\n",
    "# rescaledData = idfModel.transform(featurizedData)\n"
   ]
  },
  {
   "cell_type": "code",
   "execution_count": 28,
   "metadata": {},
   "outputs": [],
   "source": [
    "df_test = spark.read.load(\"/home/cse587/CSE587/Project3/test.csv\",sep=\",\",format=\"csv\",inferSchema = True,header = True,escape ='\"')\n",
    "df_test = df_test.withColumn('plot',udf(df_test.plot))\n",
    "\n",
    "tokenizer2 = Tokenizer(inputCol=\"plot\", outputCol=\"words\")\n",
    "wordsData2 = tokenizer2.transform(df_test)\n",
    "hashingTF2 = HashingTF(inputCol=\"words\", outputCol=\"features\")\n",
    "test_cases = hashingTF2.transform(wordsData2)\n",
    "\n"
   ]
  },
  {
   "cell_type": "code",
   "execution_count": 29,
   "metadata": {},
   "outputs": [],
   "source": [
    "from pyspark.ml.classification import LogisticRegression\n",
    "from pyspark.sql.functions import substring \n",
    "from pyspark.sql.types import *\n",
    "\n",
    "all_label_set = featurizedData.drop('movie_id', 'movie_name', 'plot', 'words')\n",
    "\n",
    "columns = all_label_set.columns\n",
    "columns = columns[::-1]\n",
    "all_label_set = all_label_set[columns]\n",
    "all_label_set = all_label_set.withColumnRenamed('rawFeatures','features')\n",
    "all_label_set = all_label_set.withColumnRenamed('genre','all_label')\n"
   ]
  },
  {
   "cell_type": "code",
   "execution_count": 30,
   "metadata": {},
   "outputs": [
    {
     "name": "stdout",
     "output_type": "stream",
     "text": [
      "0\n",
      "1\n",
      "2\n",
      "3\n",
      "4\n",
      "5\n",
      "6\n",
      "7\n",
      "8\n",
      "9\n",
      "10\n",
      "11\n",
      "12\n",
      "13\n",
      "14\n",
      "15\n",
      "16\n",
      "17\n",
      "18\n",
      "19\n"
     ]
    }
   ],
   "source": [
    "for i in range(20):\n",
    "    #substr(start = 0,len)\n",
    "    x = all_label_set.withColumn(\"label\", all_label_set.all_label.substr(i,1).cast(IntegerType()))\n",
    "    x = x.drop('all_label')\n",
    "    lr = LogisticRegression(maxIter = 10,regParam=0.0,elasticNetParam=0.0)\n",
    "    lr_model =lr.fit(x)\n",
    "\n",
    "    #for all data\n",
    "    #predict\n",
    "    print(i)\n",
    "    test_cases = lr_model.transform(test_cases)\n",
    "    test_cases = test_cases.drop('probability','rawPrediction')\n",
    "    test_cases = test_cases.withColumnRenamed('prediction',genreList[i])"
   ]
  },
  {
   "cell_type": "code",
   "execution_count": 31,
   "metadata": {},
   "outputs": [
    {
     "name": "stdout",
     "output_type": "stream",
     "text": [
      "+--------+--------------------+--------------------+--------------------+--------------------+-----+------+------------+--------+------+------------+-------------+------+---------------+-----+----------------+---------+-----------+----------+--------------+---------+-------+---------------+-------+---------------+\n",
      "|movie_id|          movie_name|                plot|               words|            features|Drama|Comedy|Romance Film|Thriller|Action|World cinema|Crime Fiction|Horror|Black-and-white|Indie|Action/Adventure|Adventure|Family Film|Short Film|Romantic drama|Animation|Musical|Science Fiction|Mystery|Romantic comedy|\n",
      "+--------+--------------------+--------------------+--------------------+--------------------+-----+------+------------+--------+------+------------+-------------+------+---------------+-----+----------------+---------+-----------+----------+--------------+---------+-------+---------------+-------+---------------+\n",
      "| 1335380|              Exodus|The film is based...|[the, film, is, b...|(262144,[1728,261...|  1.0|   1.0|         0.0|     0.0|   0.0|         0.0|          0.0|   0.0|            0.0|  0.0|             0.0|      1.0|        0.0|       0.0|           0.0|      0.0|    0.0|            0.0|    0.0|            0.0|\n",
      "|29062594|A la salida nos v...|A group of teenag...|[a, group, of, te...|(262144,[6068,963...|  1.0|   1.0|         0.0|     0.0|   0.0|         0.0|          0.0|   0.0|            0.0|  0.0|             0.0|      0.0|        0.0|       0.0|           0.0|      0.0|    0.0|            0.0|    0.0|            0.0|\n",
      "| 9252321|   Come Back, Africa|This story of a Z...|[this, story, of,...|(262144,[1598,208...|  1.0|   1.0|         0.0|     0.0|   0.0|         0.0|          0.0|   0.0|            0.0|  0.0|             0.0|      0.0|        0.0|       0.0|           0.0|      0.0|    0.0|            0.0|    0.0|            0.0|\n",
      "|13455076|       A Merry Mixup|The Stooges play ...|[the, stooges, pl...|(262144,[3294,618...|  0.0|   0.0|         1.0|     0.0|   0.0|         0.0|          0.0|   0.0|            0.0|  0.0|             0.0|      0.0|        0.0|       0.0|           0.0|      0.0|    0.0|            0.0|    0.0|            0.0|\n",
      "|24165951|        Getting Even|A soldieroffortun...|[a, soldieroffort...|(262144,[4098,644...|  0.0|   0.0|         0.0|     0.0|   0.0|         0.0|          0.0|   0.0|            0.0|  0.0|             0.0|      0.0|        0.0|       0.0|           0.0|      0.0|    0.0|            0.0|    0.0|            0.0|\n",
      "| 1925869|  River of No Return|Set in the Northw...|[set, in, the, no...|(262144,[535,3294...|  1.0|   1.0|         0.0|     0.0|   0.0|         0.0|          0.0|   0.0|            0.0|  0.0|             0.0|      0.0|        0.0|       0.0|           0.0|      0.0|    0.0|            0.0|    0.0|            0.0|\n",
      "|10799612|          Amici miei|Like in many othe...|[like, in, many, ...|(262144,[5053,538...|  1.0|   1.0|         1.0|     0.0|   0.0|         0.0|          0.0|   0.0|            0.0|  0.0|             0.0|      0.0|        0.0|       0.0|           0.0|      0.0|    0.0|            0.0|    0.0|            0.0|\n",
      "|28238240|Mickey's Big Game...|Mickey and the Sc...|[mickey, and, the...|(262144,[13142,23...|  0.0|   0.0|         0.0|     0.0|   0.0|         0.0|          0.0|   0.0|            0.0|  0.0|             0.0|      0.0|        0.0|       0.0|           0.0|      0.0|    0.0|            0.0|    0.0|            0.0|\n",
      "|17124781|The Good, the Bad...|In the desert wil...|[in, the, desert,...|(262144,[1652,523...|  0.0|   0.0|         0.0|     0.0|   0.0|         1.0|          0.0|   0.0|            0.0|  0.0|             0.0|      1.0|        0.0|       0.0|           0.0|      0.0|    0.0|            0.0|    0.0|            0.0|\n",
      "|28207941|    The Dancing Fool|Bimbo and Koko ar...|[bimbo, and, koko...|(262144,[9639,972...|  0.0|   0.0|         0.0|     0.0|   0.0|         0.0|          0.0|   0.0|            0.0|  0.0|             0.0|      0.0|        0.0|       0.0|           1.0|      0.0|    1.0|            0.0|    0.0|            0.0|\n",
      "|19174305|              Tahaan|Tahaan  lives wit...|[tahaan, , lives,...|(262144,[2710,392...|  0.0|   0.0|         0.0|     1.0|   0.0|         0.0|          0.0|   0.0|            0.0|  0.0|             0.0|      0.0|        0.0|       0.0|           1.0|      0.0|    0.0|            0.0|    0.0|            0.0|\n",
      "|18392317|     Mysterious Mose|Betty is startled...|[betty, is, start...|(262144,[5213,606...|  0.0|   0.0|         0.0|     0.0|   0.0|         0.0|          0.0|   0.0|            0.0|  0.0|             0.0|      0.0|        0.0|       0.0|           1.0|      0.0|    0.0|            1.0|    0.0|            1.0|\n",
      "|34420857|Kelviyum Naane Pa...|Nirmal Karthik  t...|[nirmal, karthik,...|(262144,[7554,963...|  0.0|   0.0|         0.0|     0.0|   0.0|         0.0|          1.0|   0.0|            0.0|  0.0|             0.0|      0.0|        0.0|       0.0|           0.0|      0.0|    0.0|            1.0|    0.0|            0.0|\n",
      "| 4039635|   First on the Moon|A group of journa...|[a, group, of, jo...|(262144,[571,1640...|  0.0|   0.0|         0.0|     0.0|   0.0|         0.0|          0.0|   0.0|            0.0|  0.0|             0.0|      0.0|        0.0|       0.0|           0.0|      0.0|    0.0|            0.0|    0.0|            0.0|\n",
      "| 8034072|  Journey of a Woman|Vaibhavari Sahay ...|[vaibhavari, saha...|(262144,[991,4200...|  1.0|   1.0|         0.0|     0.0|   0.0|         0.0|          1.0|   0.0|            0.0|  0.0|             0.0|      0.0|        0.0|       0.0|           0.0|      1.0|    0.0|            1.0|    0.0|            0.0|\n",
      "| 4016437|     Sophie's Choice|In 1947 the movie...|[in, 1947, the, m...|(262144,[5595,783...|  1.0|   1.0|         0.0|     0.0|   0.0|         0.0|          0.0|   0.0|            0.0|  0.0|             0.0|      0.0|        0.0|       0.0|           0.0|      0.0|    0.0|            0.0|    0.0|            0.0|\n",
      "| 1520023|  Ninja Resurrection|Ninja Resurrectio...|[ninja, resurrect...|(262144,[14,535,5...|  0.0|   0.0|         0.0|     0.0|   0.0|         0.0|          1.0|   0.0|            1.0|  0.0|             0.0|      0.0|        0.0|       0.0|           0.0|      0.0|    0.0|            0.0|    0.0|            0.0|\n",
      "|24589422|      Maria’s Lovers|In the spring of ...|[in, the, spring,...|(262144,[1998,249...|  1.0|   1.0|         0.0|     0.0|   0.0|         0.0|          0.0|   0.0|            0.0|  0.0|             0.0|      0.0|        0.0|       0.0|           0.0|      1.0|    0.0|            0.0|    0.0|            0.0|\n",
      "|35068740|           Chinnavar|Muthu Prabhu  and...|[muthu, prabhu, ,...|(262144,[2710,484...|  0.0|   0.0|         0.0|     1.0|   0.0|         0.0|          0.0|   0.0|            0.0|  0.0|             0.0|      0.0|        0.0|       0.0|           0.0|      0.0|    0.0|            0.0|    0.0|            0.0|\n",
      "|21132951|              Aparan|Vishwanathan  an ...|[vishwanathan, , ...|(262144,[1841,392...|  0.0|   0.0|         0.0|     0.0|   0.0|         0.0|          0.0|   0.0|            0.0|  0.0|             0.0|      0.0|        0.0|       0.0|           0.0|      0.0|    0.0|            0.0|    0.0|            0.0|\n",
      "+--------+--------------------+--------------------+--------------------+--------------------+-----+------+------------+--------+------+------------+-------------+------+---------------+-----+----------------+---------+-----------+----------+--------------+---------+-------+---------------+-------+---------------+\n",
      "only showing top 20 rows\n",
      "\n"
     ]
    }
   ],
   "source": [
    "test_cases.show()"
   ]
  },
  {
   "cell_type": "code",
   "execution_count": 46,
   "metadata": {},
   "outputs": [
    {
     "ename": "AttributeError",
     "evalue": "'NoneType' object has no attribute 'show'",
     "output_type": "error",
     "traceback": [
      "\u001b[0;31m---------------------------------------------------------------------------\u001b[0m",
      "\u001b[0;31mAttributeError\u001b[0m                            Traceback (most recent call last)",
      "\u001b[0;32m<ipython-input-46-aa03de7dbd31>\u001b[0m in \u001b[0;36m<module>\u001b[0;34m\u001b[0m\n\u001b[0;32m----> 1\u001b[0;31m \u001b[0mtest_cases\u001b[0m\u001b[0;34m.\u001b[0m\u001b[0mshow\u001b[0m\u001b[0;34m(\u001b[0m\u001b[0;34m)\u001b[0m\u001b[0;34m\u001b[0m\u001b[0;34m\u001b[0m\u001b[0m\n\u001b[0m",
      "\u001b[0;31mAttributeError\u001b[0m: 'NoneType' object has no attribute 'show'"
     ]
    }
   ],
   "source": [
    "test_cases.show()"
   ]
  },
  {
   "cell_type": "code",
   "execution_count": 45,
   "metadata": {},
   "outputs": [
    {
     "ename": "AttributeError",
     "evalue": "'NoneType' object has no attribute 'write'",
     "output_type": "error",
     "traceback": [
      "\u001b[0;31m---------------------------------------------------------------------------\u001b[0m",
      "\u001b[0;31mAttributeError\u001b[0m                            Traceback (most recent call last)",
      "\u001b[0;32m<ipython-input-45-efd57a78933c>\u001b[0m in \u001b[0;36m<module>\u001b[0;34m\u001b[0m\n\u001b[1;32m      1\u001b[0m \u001b[0;34m\u001b[0m\u001b[0m\n\u001b[0;32m----> 2\u001b[0;31m \u001b[0mtest_cases\u001b[0m\u001b[0;34m.\u001b[0m\u001b[0mwrite\u001b[0m\u001b[0;34m.\u001b[0m\u001b[0mformat\u001b[0m\u001b[0;34m(\u001b[0m\u001b[0;34m'com.databricks.spark.csv'\u001b[0m\u001b[0;34m)\u001b[0m\u001b[0;34m.\u001b[0m\u001b[0msave\u001b[0m\u001b[0;34m(\u001b[0m\u001b[0;34m'my.csv'\u001b[0m\u001b[0;34m)\u001b[0m\u001b[0;34m\u001b[0m\u001b[0;34m\u001b[0m\u001b[0m\n\u001b[0m",
      "\u001b[0;31mAttributeError\u001b[0m: 'NoneType' object has no attribute 'write'"
     ]
    }
   ],
   "source": [
    "\n",
    "test_cases.write.format('com.databricks.spark.csv').save('my.csv')"
   ]
  },
  {
   "cell_type": "code",
   "execution_count": 35,
   "metadata": {},
   "outputs": [
    {
     "name": "stdout",
     "output_type": "stream",
     "text": [
      "+--------+--------------------+--------------------+--------------------+--------------------+-----+------+------------+--------+------+------------+-------------+------+---------------+-----+----------------+---------+-----------+----------+--------------+---------+-------+---------------+-------+---------------+\n",
      "|movie_id|          movie_name|                plot|               words|            features|Drama|Comedy|Romance Film|Thriller|Action|World cinema|Crime Fiction|Horror|Black-and-white|Indie|Action/Adventure|Adventure|Family Film|Short Film|Romantic drama|Animation|Musical|Science Fiction|Mystery|Romantic comedy|\n",
      "+--------+--------------------+--------------------+--------------------+--------------------+-----+------+------------+--------+------+------------+-------------+------+---------------+-----+----------------+---------+-----------+----------+--------------+---------+-------+---------------+-------+---------------+\n",
      "| 1335380|              Exodus|The film is based...|[the, film, is, b...|(262144,[1728,261...|  1.0|   1.0|         0.0|     0.0|   0.0|         0.0|          0.0|   0.0|            0.0|  0.0|             0.0|      1.0|        0.0|       0.0|           0.0|      0.0|    0.0|            0.0|    0.0|            0.0|\n",
      "|29062594|A la salida nos v...|A group of teenag...|[a, group, of, te...|(262144,[6068,963...|  1.0|   1.0|         0.0|     0.0|   0.0|         0.0|          0.0|   0.0|            0.0|  0.0|             0.0|      0.0|        0.0|       0.0|           0.0|      0.0|    0.0|            0.0|    0.0|            0.0|\n",
      "| 9252321|   Come Back, Africa|This story of a Z...|[this, story, of,...|(262144,[1598,208...|  1.0|   1.0|         0.0|     0.0|   0.0|         0.0|          0.0|   0.0|            0.0|  0.0|             0.0|      0.0|        0.0|       0.0|           0.0|      0.0|    0.0|            0.0|    0.0|            0.0|\n",
      "|13455076|       A Merry Mixup|The Stooges play ...|[the, stooges, pl...|(262144,[3294,618...|  0.0|   0.0|         1.0|     0.0|   0.0|         0.0|          0.0|   0.0|            0.0|  0.0|             0.0|      0.0|        0.0|       0.0|           0.0|      0.0|    0.0|            0.0|    0.0|            0.0|\n",
      "|24165951|        Getting Even|A soldieroffortun...|[a, soldieroffort...|(262144,[4098,644...|  0.0|   0.0|         0.0|     0.0|   0.0|         0.0|          0.0|   0.0|            0.0|  0.0|             0.0|      0.0|        0.0|       0.0|           0.0|      0.0|    0.0|            0.0|    0.0|            0.0|\n",
      "| 1925869|  River of No Return|Set in the Northw...|[set, in, the, no...|(262144,[535,3294...|  1.0|   1.0|         0.0|     0.0|   0.0|         0.0|          0.0|   0.0|            0.0|  0.0|             0.0|      0.0|        0.0|       0.0|           0.0|      0.0|    0.0|            0.0|    0.0|            0.0|\n",
      "|10799612|          Amici miei|Like in many othe...|[like, in, many, ...|(262144,[5053,538...|  1.0|   1.0|         1.0|     0.0|   0.0|         0.0|          0.0|   0.0|            0.0|  0.0|             0.0|      0.0|        0.0|       0.0|           0.0|      0.0|    0.0|            0.0|    0.0|            0.0|\n",
      "|28238240|Mickey's Big Game...|Mickey and the Sc...|[mickey, and, the...|(262144,[13142,23...|  0.0|   0.0|         0.0|     0.0|   0.0|         0.0|          0.0|   0.0|            0.0|  0.0|             0.0|      0.0|        0.0|       0.0|           0.0|      0.0|    0.0|            0.0|    0.0|            0.0|\n",
      "|17124781|The Good, the Bad...|In the desert wil...|[in, the, desert,...|(262144,[1652,523...|  0.0|   0.0|         0.0|     0.0|   0.0|         1.0|          0.0|   0.0|            0.0|  0.0|             0.0|      1.0|        0.0|       0.0|           0.0|      0.0|    0.0|            0.0|    0.0|            0.0|\n",
      "|28207941|    The Dancing Fool|Bimbo and Koko ar...|[bimbo, and, koko...|(262144,[9639,972...|  0.0|   0.0|         0.0|     0.0|   0.0|         0.0|          0.0|   0.0|            0.0|  0.0|             0.0|      0.0|        0.0|       0.0|           1.0|      0.0|    1.0|            0.0|    0.0|            0.0|\n",
      "|19174305|              Tahaan|Tahaan  lives wit...|[tahaan, , lives,...|(262144,[2710,392...|  0.0|   0.0|         0.0|     1.0|   0.0|         0.0|          0.0|   0.0|            0.0|  0.0|             0.0|      0.0|        0.0|       0.0|           1.0|      0.0|    0.0|            0.0|    0.0|            0.0|\n",
      "|18392317|     Mysterious Mose|Betty is startled...|[betty, is, start...|(262144,[5213,606...|  0.0|   0.0|         0.0|     0.0|   0.0|         0.0|          0.0|   0.0|            0.0|  0.0|             0.0|      0.0|        0.0|       0.0|           1.0|      0.0|    0.0|            1.0|    0.0|            1.0|\n",
      "|34420857|Kelviyum Naane Pa...|Nirmal Karthik  t...|[nirmal, karthik,...|(262144,[7554,963...|  0.0|   0.0|         0.0|     0.0|   0.0|         0.0|          1.0|   0.0|            0.0|  0.0|             0.0|      0.0|        0.0|       0.0|           0.0|      0.0|    0.0|            1.0|    0.0|            0.0|\n",
      "| 4039635|   First on the Moon|A group of journa...|[a, group, of, jo...|(262144,[571,1640...|  0.0|   0.0|         0.0|     0.0|   0.0|         0.0|          0.0|   0.0|            0.0|  0.0|             0.0|      0.0|        0.0|       0.0|           0.0|      0.0|    0.0|            0.0|    0.0|            0.0|\n",
      "| 8034072|  Journey of a Woman|Vaibhavari Sahay ...|[vaibhavari, saha...|(262144,[991,4200...|  1.0|   1.0|         0.0|     0.0|   0.0|         0.0|          1.0|   0.0|            0.0|  0.0|             0.0|      0.0|        0.0|       0.0|           0.0|      1.0|    0.0|            1.0|    0.0|            0.0|\n",
      "| 4016437|     Sophie's Choice|In 1947 the movie...|[in, 1947, the, m...|(262144,[5595,783...|  1.0|   1.0|         0.0|     0.0|   0.0|         0.0|          0.0|   0.0|            0.0|  0.0|             0.0|      0.0|        0.0|       0.0|           0.0|      0.0|    0.0|            0.0|    0.0|            0.0|\n",
      "| 1520023|  Ninja Resurrection|Ninja Resurrectio...|[ninja, resurrect...|(262144,[14,535,5...|  0.0|   0.0|         0.0|     0.0|   0.0|         0.0|          1.0|   0.0|            1.0|  0.0|             0.0|      0.0|        0.0|       0.0|           0.0|      0.0|    0.0|            0.0|    0.0|            0.0|\n",
      "|24589422|      Maria’s Lovers|In the spring of ...|[in, the, spring,...|(262144,[1998,249...|  1.0|   1.0|         0.0|     0.0|   0.0|         0.0|          0.0|   0.0|            0.0|  0.0|             0.0|      0.0|        0.0|       0.0|           0.0|      1.0|    0.0|            0.0|    0.0|            0.0|\n",
      "|35068740|           Chinnavar|Muthu Prabhu  and...|[muthu, prabhu, ,...|(262144,[2710,484...|  0.0|   0.0|         0.0|     1.0|   0.0|         0.0|          0.0|   0.0|            0.0|  0.0|             0.0|      0.0|        0.0|       0.0|           0.0|      0.0|    0.0|            0.0|    0.0|            0.0|\n",
      "|21132951|              Aparan|Vishwanathan  an ...|[vishwanathan, , ...|(262144,[1841,392...|  0.0|   0.0|         0.0|     0.0|   0.0|         0.0|          0.0|   0.0|            0.0|  0.0|             0.0|      0.0|        0.0|       0.0|           0.0|      0.0|    0.0|            0.0|    0.0|            0.0|\n",
      "+--------+--------------------+--------------------+--------------------+--------------------+-----+------+------------+--------+------+------------+-------------+------+---------------+-----+----------------+---------+-----------+----------+--------------+---------+-------+---------------+-------+---------------+\n",
      "only showing top 20 rows\n",
      "\n"
     ]
    }
   ],
   "source": [
    "test_cases.show()"
   ]
  },
  {
   "cell_type": "code",
   "execution_count": null,
   "metadata": {},
   "outputs": [],
   "source": []
  }
 ],
 "metadata": {
  "kernelspec": {
   "display_name": "Python 3",
   "language": "python",
   "name": "python3"
  },
  "language_info": {
   "codemirror_mode": {
    "name": "ipython",
    "version": 3
   },
   "file_extension": ".py",
   "mimetype": "text/x-python",
   "name": "python",
   "nbconvert_exporter": "python",
   "pygments_lexer": "ipython3",
   "version": "3.6.9"
  }
 },
 "nbformat": 4,
 "nbformat_minor": 2
}
