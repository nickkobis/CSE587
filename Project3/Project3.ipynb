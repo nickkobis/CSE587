{
 "cells": [
  {
   "cell_type": "code",
   "execution_count": 1,
   "metadata": {},
   "outputs": [],
   "source": [
    "# hello world\n",
    "import findspark\n",
    "findspark.init('/home/cse587/spark-2.4.0-bin-hadoop2.7')\n",
    "import pyspark\n",
    "import string\n",
    "import re\n",
    "from pyspark.sql.functions import UserDefinedFunction\n",
    "from pyspark.sql.types import StringType\n",
    "from pyspark.sql import functions as F\n",
    "sc = pyspark.SparkContext()"
   ]
  },
  {
   "cell_type": "code",
   "execution_count": 2,
   "metadata": {},
   "outputs": [],
   "source": [
    "from pyspark.sql import *"
   ]
  },
  {
   "cell_type": "code",
   "execution_count": 3,
   "metadata": {},
   "outputs": [],
   "source": [
    "spark = SparkSession.builder.appName(\"Projec3\")\\\n",
    "        .config(\"spark.some.config.option\",\"some-value\")\\\n",
    "        .getOrCreate()"
   ]
  },
  {
   "cell_type": "code",
   "execution_count": 4,
   "metadata": {},
   "outputs": [],
   "source": [
    "df = spark.read.load(\"/home/cse587/CSE587/Project3/train.csv\",sep=\",\",format=\"csv\",inferSchema = True,header = True,escape ='\"')"
   ]
  },
  {
   "cell_type": "code",
   "execution_count": 5,
   "metadata": {},
   "outputs": [
    {
     "name": "stdout",
     "output_type": "stream",
     "text": [
      "root\n",
      " |-- movie_id: string (nullable = true)\n",
      " |-- movie_name: string (nullable = true)\n",
      " |-- plot: string (nullable = true)\n",
      " |-- genre: string (nullable = true)\n",
      "\n"
     ]
    }
   ],
   "source": [
    "df.printSchema()"
   ]
  },
  {
   "cell_type": "code",
   "execution_count": 6,
   "metadata": {},
   "outputs": [
    {
     "name": "stdout",
     "output_type": "stream",
     "text": [
      "+--------+--------------------+--------------------+--------------------+\n",
      "|movie_id|          movie_name|                plot|               genre|\n",
      "+--------+--------------------+--------------------+--------------------+\n",
      "|23890098|          Taxi Blues|Shlykov, a hard-w...|['World cinema', ...|\n",
      "|31186339|    The Hunger Games|The nation of Pan...|['Action/Adventur...|\n",
      "|20663735|          Narasimham|Poovalli Induchoo...|['Musical', 'Acti...|\n",
      "| 2231378|  The Lemon Drop Kid|The Lemon Drop Ki...|          ['Comedy']|\n",
      "|  595909|   A Cry in the Dark|Seventh-day Adven...|['Crime Fiction',...|\n",
      "| 5272176|            End Game|The president is ...|['Action/Adventur...|\n",
      "| 1952976|          Dark Water|{{plot}} The film...|['Thriller', 'Dra...|\n",
      "|24225279|                Sing|The story begins ...|           ['Drama']|\n",
      "| 2462689|       Meet John Doe|Infuriated at bei...|['Black-and-white...|\n",
      "|20532852|Destination Meatball|A line of people ...|['Animation', 'Sh...|\n",
      "|15401493|    Husband for Hire|Lola  attempts to...|          ['Comedy']|\n",
      "|18188932|         Up and Down|Milan and Goran a...|['Crime Fiction',...|\n",
      "| 2940516|Ghost In The Noon...|Bumbling pirate c...|          ['Comedy']|\n",
      "| 1480747|       House Party 2|{{plot}} Followin...|          ['Comedy']|\n",
      "|24448645|Forest of the Dam...|Despite Lucy's re...|          ['Horror']|\n",
      "|15072401|Charlie Chan's Se...|Alan Colby, heir ...|['Crime Fiction',...|\n",
      "| 4018288|     The Biggest Fan|Debbie's favorite...|           ['Drama']|\n",
      "| 4596602|      Ashes to Ashes|Ashes to Ashes is...|['Crime Fiction',...|\n",
      "|15224586|        Green Dragon|The film follows ...|  ['Indie', 'Drama']|\n",
      "|15585766|  The Rats of Tobruk|Three friends are...|           ['Drama']|\n",
      "+--------+--------------------+--------------------+--------------------+\n",
      "only showing top 20 rows\n",
      "\n"
     ]
    }
   ],
   "source": [
    "df.show() #formated correctly"
   ]
  },
  {
   "cell_type": "code",
   "execution_count": 7,
   "metadata": {},
   "outputs": [],
   "source": [
    "\n",
    "#punc = string.punctuation\n",
    "def removePunctuation(s):\n",
    "    print(\"type of s: \",s)\n",
    "    return re.sub(r'[^\\w\\s]',\"\",s)\n",
    "#data = re.sub(r'[^\\w\\s]',\"\",data)"
   ]
  },
  {
   "cell_type": "code",
   "execution_count": 9,
   "metadata": {},
   "outputs": [
    {
     "name": "stdout",
     "output_type": "stream",
     "text": [
      "+--------+--------------------+--------------------+--------------------+\n",
      "|movie_id|          movie_name|                plot|               genre|\n",
      "+--------+--------------------+--------------------+--------------------+\n",
      "|23890098|          Taxi Blues|Shlykov a hardwor...|['World cinema', ...|\n",
      "|31186339|    The Hunger Games|The nation of Pan...|['Action/Adventur...|\n",
      "|20663735|          Narasimham|Poovalli Induchoo...|['Musical', 'Acti...|\n",
      "| 2231378|  The Lemon Drop Kid|The Lemon Drop Ki...|          ['Comedy']|\n",
      "|  595909|   A Cry in the Dark|Seventhday Advent...|['Crime Fiction',...|\n",
      "| 5272176|            End Game|The president is ...|['Action/Adventur...|\n",
      "| 1952976|          Dark Water|plot The film ope...|['Thriller', 'Dra...|\n",
      "|24225279|                Sing|The story begins ...|           ['Drama']|\n",
      "| 2462689|       Meet John Doe|Infuriated at bei...|['Black-and-white...|\n",
      "|20532852|Destination Meatball|A line of people ...|['Animation', 'Sh...|\n",
      "|15401493|    Husband for Hire|Lola  attempts to...|          ['Comedy']|\n",
      "|18188932|         Up and Down|Milan and Goran a...|['Crime Fiction',...|\n",
      "| 2940516|Ghost In The Noon...|Bumbling pirate c...|          ['Comedy']|\n",
      "| 1480747|       House Party 2|plot Following th...|          ['Comedy']|\n",
      "|24448645|Forest of the Dam...|Despite Lucys res...|          ['Horror']|\n",
      "|15072401|Charlie Chan's Se...|Alan Colby heir t...|['Crime Fiction',...|\n",
      "| 4018288|     The Biggest Fan|Debbies favorite ...|           ['Drama']|\n",
      "| 4596602|      Ashes to Ashes|Ashes to Ashes is...|['Crime Fiction',...|\n",
      "|15224586|        Green Dragon|The film follows ...|  ['Indie', 'Drama']|\n",
      "|15585766|  The Rats of Tobruk|Three friends are...|           ['Drama']|\n",
      "+--------+--------------------+--------------------+--------------------+\n",
      "only showing top 20 rows\n",
      "\n"
     ]
    }
   ],
   "source": [
    "udf = UserDefinedFunction(lambda x: removePunctuation(x), StringType())\n",
    "df = df.select(*[udf(column).alias(\"plot\") if column == \"plot\" else column for column in df.columns])\n",
    "#new_df = df.withColumn(\"plot\",)\n",
    "df.show()"
   ]
  },
  {
   "cell_type": "code",
   "execution_count": 10,
   "metadata": {},
   "outputs": [
    {
     "name": "stdout",
     "output_type": "stream",
     "text": [
      "+---+----------------+\n",
      "| id|           genre|\n",
      "+---+----------------+\n",
      "|  0|           Drama|\n",
      "|  1|          Comedy|\n",
      "|  2|    Romance Film|\n",
      "|  3|        Thriller|\n",
      "|  4|          Action|\n",
      "|  5|    World cinema|\n",
      "|  6|   Crime Fiction|\n",
      "|  7|          Horror|\n",
      "|  8| Black-and-white|\n",
      "|  9|           Indie|\n",
      "| 10|Action/Adventure|\n",
      "| 11|       Adventure|\n",
      "| 12|     Family Film|\n",
      "| 13|      Short Film|\n",
      "| 14|  Romantic drama|\n",
      "| 15|       Animation|\n",
      "| 16|         Musical|\n",
      "| 17| Science Fiction|\n",
      "| 18|         Mystery|\n",
      "| 19| Romantic comedy|\n",
      "+---+----------------+\n",
      "\n"
     ]
    }
   ],
   "source": [
    "genreMap = spark.read.load(\"/home/cse587/CSE587/Project3/mapping.csv\",sep=\",\",format=\"csv\",inferSchema = True,header = True,escape ='\"')\n",
    "genreMap = genreMap.withColumnRenamed('_c0','id')\n",
    "genreMap = genreMap.withColumnRenamed('0','genre')\n",
    "genreMap.show()\n",
    "\n",
    "#this converts a column into a list for use inside encodeGenre() \n",
    "#since you cant perform computations on a dataframe inside a UDF\n",
    "genreList = genreMap.select(\"genre\").rdd.flatMap(lambda x: x).collect()"
   ]
  },
  {
   "cell_type": "code",
   "execution_count": 17,
   "metadata": {},
   "outputs": [],
   "source": [
    "\n",
    "def encodeGenre(s):\n",
    "    #s : the value of col \"genre\" at some row\n",
    "    retVal=\"\"\n",
    "    #s = re.sub(r'[^\\\\'']',\"\",s)\n",
    "    #print(\"s: \",s)\n",
    "    #print(\"type of s: \",type(s))\n",
    "    \n",
    "    #convert from string to list\n",
    "    s = s[1:-1].split(\", \")\n",
    "    #print(\"type of s: \",type(s))\n",
    "    #print(s)\n",
    "    \n",
    "    #remove single quotes, regex wasnt working for some reason\n",
    "    temp=[]\n",
    "    for x in s:\n",
    "        #s.remove(x)\n",
    "        x=x[1:-1]\n",
    "#         print(x)\n",
    "#         index = genreMap[\"0\"==x]\n",
    "#         print(index)\n",
    "        temp.append(x)\n",
    "    s=temp\n",
    "    #print(s)\n",
    "    \n",
    "    #create one hot encoding, \n",
    "    for genre in genreList:\n",
    "        if genre in s:\n",
    "            retVal=retVal+\"1\"\n",
    "        else:\n",
    "            retVal=retVal+\"0\"\n",
    "##### apparetnly it aint kosher to perform df operations inside a udf... so this hour of work was for nothing\n",
    "#     t = genreMap.withColumn(\"encoding\",F.when(genreMap.genre.isin(s),1).otherwise(0))\n",
    "#     #t.show()\n",
    "#     retVal = t.select(\"encoding\").rdd.flatMap(lambda x: x).collect()\n",
    "#     retVal = ''.join(map(str,retVal))\n",
    "    return retVal\n",
    "    \n",
    "    "
   ]
  },
  {
   "cell_type": "code",
   "execution_count": 18,
   "metadata": {},
   "outputs": [
    {
     "name": "stdout",
     "output_type": "stream",
     "text": [
      "+--------+--------------------+--------------------+--------------------+\n",
      "|movie_id|          movie_name|                plot|               genre|\n",
      "+--------+--------------------+--------------------+--------------------+\n",
      "|23890098|          Taxi Blues|Shlykov a hardwor...|10000100000000000000|\n",
      "|31186339|    The Hunger Games|The nation of Pan...|10001000001000000100|\n",
      "|20663735|          Narasimham|Poovalli Induchoo...|10001000000000001000|\n",
      "| 2231378|  The Lemon Drop Kid|The Lemon Drop Ki...|01000000000000000000|\n",
      "|  595909|   A Cry in the Dark|Seventhday Advent...|10000110000000000000|\n",
      "| 5272176|            End Game|The president is ...|10011000001000000000|\n",
      "| 1952976|          Dark Water|plot The film ope...|10010001000000000000|\n",
      "|24225279|                Sing|The story begins ...|10000000000000000000|\n",
      "| 2462689|       Meet John Doe|Infuriated at bei...|11100000100000000001|\n",
      "|20532852|Destination Meatball|A line of people ...|00000000000011010000|\n",
      "|15401493|    Husband for Hire|Lola  attempts to...|01000000000000000000|\n",
      "|18188932|         Up and Down|Milan and Goran a...|11000110000000000000|\n",
      "| 2940516|Ghost In The Noon...|Bumbling pirate c...|01000000000000000000|\n",
      "| 1480747|       House Party 2|plot Following th...|01000000000000000000|\n",
      "|24448645|Forest of the Dam...|Despite Lucys res...|00000001000000000000|\n",
      "|15072401|Charlie Chan's Se...|Alan Colby heir t...|00010011000000000010|\n",
      "| 4018288|     The Biggest Fan|Debbies favorite ...|10000000000000000000|\n",
      "| 4596602|      Ashes to Ashes|Ashes to Ashes is...|00111010010000000000|\n",
      "|15224586|        Green Dragon|The film follows ...|10000000010000000000|\n",
      "|15585766|  The Rats of Tobruk|Three friends are...|10000000000000000000|\n",
      "+--------+--------------------+--------------------+--------------------+\n",
      "only showing top 20 rows\n",
      "\n"
     ]
    }
   ],
   "source": [
    "udf2 = UserDefinedFunction(lambda x: encodeGenre(x), StringType())\n",
    "df = df.select(*[udf2(column).alias(\"genre\") if column == \"genre\" else column for column in df.columns])\n",
    "df.show()"
   ]
  },
  {
   "cell_type": "code",
   "execution_count": null,
   "metadata": {},
   "outputs": [],
   "source": [
    "######NOT WORKING BELOW HERE, just trying some stuff out to create the term-document matrix"
   ]
  },
  {
   "cell_type": "code",
   "execution_count": null,
   "metadata": {},
   "outputs": [],
   "source": [
    "text_split = df.select(\"plot\").rdd.map(lambda line: line.split(\" \"))"
   ]
  },
  {
   "cell_type": "code",
   "execution_count": null,
   "metadata": {},
   "outputs": [],
   "source": [
    "text_word = text_split.map(lambda word: (word,1))"
   ]
  },
  {
   "cell_type": "code",
   "execution_count": null,
   "metadata": {},
   "outputs": [],
   "source": [
    "word_count = text_word.reduceByKey(lambda a, b: b+a)"
   ]
  },
  {
   "cell_type": "code",
   "execution_count": null,
   "metadata": {},
   "outputs": [],
   "source": [
    "word_count.collect()"
   ]
  },
  {
   "cell_type": "code",
   "execution_count": null,
   "metadata": {},
   "outputs": [],
   "source": []
  }
 ],
 "metadata": {
  "kernelspec": {
   "display_name": "Python 3",
   "language": "python",
   "name": "python3"
  },
  "language_info": {
   "codemirror_mode": {
    "name": "ipython",
    "version": 3
   },
   "file_extension": ".py",
   "mimetype": "text/x-python",
   "name": "python",
   "nbconvert_exporter": "python",
   "pygments_lexer": "ipython3",
   "version": "3.6.9"
  }
 },
 "nbformat": 4,
 "nbformat_minor": 2
}
